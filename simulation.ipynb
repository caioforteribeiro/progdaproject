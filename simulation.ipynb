{
 "cells": [
  {
   "cell_type": "code",
   "execution_count": 2,
   "id": "5b5d3094-8d97-4802-a2b3-047addc41410",
   "metadata": {},
   "outputs": [],
   "source": [
    "import numpy as np\n",
    "\n",
    "import pandas as pd\n",
    "\n",
    "import matplotlib.pyplot as plt\n",
    "\n",
    "import scipy.stats as stats"
   ]
  },
  {
   "cell_type": "markdown",
   "id": "0bbe6772-26b9-41cc-968c-3efe5a388478",
   "metadata": {},
   "source": [
    "### Cigarettes per day"
   ]
  },
  {
   "cell_type": "code",
   "execution_count": 3,
   "id": "650a08cf-8d00-4a45-892a-a27b7f0e4e85",
   "metadata": {
    "tags": []
   },
   "outputs": [
    {
     "data": {
      "text/plain": [
       "36"
      ]
     },
     "execution_count": 3,
     "metadata": {},
     "output_type": "execute_result"
    }
   ],
   "source": [
    "cigs_per_day = np.random.poisson(5, size=5000)\n",
    "count = np.bincount(cigs_per_day)\n",
    "count[0]"
   ]
  },
  {
   "cell_type": "markdown",
   "id": "b2b18661-7e37-4218-b135-e7e4941acbb8",
   "metadata": {},
   "source": [
    "### BMI"
   ]
  },
  {
   "cell_type": "code",
   "execution_count": 4,
   "id": "6e1569cc-1229-4fc6-8516-1ecb05c1e66b",
   "metadata": {},
   "outputs": [
    {
     "data": {
      "image/png": "[encoded data removed]",
      "text/plain": [
       "<Figure size 432x288 with 1 Axes>"
      ]
     },
     "metadata": {
      "needs_background": "light"
     },
     "output_type": "display_data"
    }
   ],
   "source": [
    "lower = 15\n",
    "upper = 50\n",
    "mu = 25\n",
    "sigma = 5\n",
    "N = 5000\n",
    "\n",
    "bmi = stats.truncnorm.rvs(\n",
    "          (lower-mu)/sigma,(upper-mu)/sigma,loc=mu,scale=sigma,size=N)\n",
    "\n",
    "\n",
    "plt.hist(bmi)\n",
    "\n",
    "plt.show()"
   ]
  },
  {
   "cell_type": "markdown",
   "id": "a09a629f-afb2-4ee9-b537-4b8605d619dd",
   "metadata": {},
   "source": [
    "### Cholesterol"
   ]
  },
  {
   "cell_type": "code",
   "execution_count": 14,
   "id": "0b380948-0a50-44b3-ba8c-2dbc99c783be",
   "metadata": {},
   "outputs": [
    {
     "data": {
      "image/png": "[encoded data removed]",
      "text/plain": [
       "<Figure size 432x288 with 1 Axes>"
      ]
     },
     "metadata": {
      "needs_background": "light"
     },
     "output_type": "display_data"
    }
   ],
   "source": [
    "valuerange = np.arange(113,697)\n",
    "\n",
    "p = np.random.rand(len(valuerange))\n",
    "p = p / p.sum()\n",
    "\n",
    "chol = np.random.choice(a=valuerange, size=5000, p=p)\n",
    "\n",
    "plt.hist(chol)\n",
    "plt.show()"
   ]
  },
  {
   "cell_type": "markdown",
   "id": "df885a0a-cf3f-4fbd-98f8-d26ce6088fbc",
   "metadata": {},
   "source": [
    "## Dataframe"
   ]
  },
  {
   "cell_type": "code",
   "execution_count": 6,
   "id": "793b61c8-dc34-436d-b3fd-1bc6327099dd",
   "metadata": {},
   "outputs": [
    {
     "name": "stdout",
     "output_type": "stream",
     "text": [
      "[[  7.           5.           5.         ...   5.           5.\n",
      "    4.        ]\n",
      " [ 28.4298766   24.07236718  27.43066864 ...  28.05308649  26.54517638\n",
      "   22.9768869 ]\n",
      " [330.         337.         406.         ... 273.         262.\n",
      "  683.        ]]\n"
     ]
    }
   ],
   "source": [
    "data = np.array([cigs_per_day,bmi,chol])\n",
    "\n",
    "print(data)"
   ]
  },
  {
   "cell_type": "code",
   "execution_count": 7,
   "id": "2a802bf0-f39f-4ca0-9320-f357c78a6ae3",
   "metadata": {},
   "outputs": [],
   "source": [
    "df = pd.DataFrame(data).transpose()"
   ]
  },
  {
   "cell_type": "code",
   "execution_count": 8,
   "id": "a2d387d5-999d-4037-b776-ba8838c48194",
   "metadata": {},
   "outputs": [
    {
     "data": {
      "text/html": [
       "<div>\n",
       "<style scoped>\n",
       "    .dataframe tbody tr th:only-of-type {\n",
       "        vertical-align: middle;\n",
       "    }\n",
       "\n",
       "    .dataframe tbody tr th {\n",
       "        vertical-align: top;\n",
       "    }\n",
       "\n",
       "    .dataframe thead th {\n",
       "        text-align: right;\n",
       "    }\n",
       "</style>\n",
       "<table border=\"1\" class=\"dataframe\">\n",
       "  <thead>\n",
       "    <tr style=\"text-align: right;\">\n",
       "      <th></th>\n",
       "      <th>Cigarettes per day</th>\n",
       "      <th>BMI</th>\n",
       "      <th>Cholesterol</th>\n",
       "    </tr>\n",
       "  </thead>\n",
       "  <tbody>\n",
       "    <tr>\n",
       "      <th>0</th>\n",
       "      <td>7.0</td>\n",
       "      <td>28.429877</td>\n",
       "      <td>330.0</td>\n",
       "    </tr>\n",
       "    <tr>\n",
       "      <th>1</th>\n",
       "      <td>5.0</td>\n",
       "      <td>24.072367</td>\n",
       "      <td>337.0</td>\n",
       "    </tr>\n",
       "    <tr>\n",
       "      <th>2</th>\n",
       "      <td>5.0</td>\n",
       "      <td>27.430669</td>\n",
       "      <td>406.0</td>\n",
       "    </tr>\n",
       "    <tr>\n",
       "      <th>3</th>\n",
       "      <td>4.0</td>\n",
       "      <td>19.454446</td>\n",
       "      <td>571.0</td>\n",
       "    </tr>\n",
       "    <tr>\n",
       "      <th>4</th>\n",
       "      <td>3.0</td>\n",
       "      <td>29.218041</td>\n",
       "      <td>522.0</td>\n",
       "    </tr>\n",
       "    <tr>\n",
       "      <th>...</th>\n",
       "      <td>...</td>\n",
       "      <td>...</td>\n",
       "      <td>...</td>\n",
       "    </tr>\n",
       "    <tr>\n",
       "      <th>4995</th>\n",
       "      <td>8.0</td>\n",
       "      <td>20.666335</td>\n",
       "      <td>333.0</td>\n",
       "    </tr>\n",
       "    <tr>\n",
       "      <th>4996</th>\n",
       "      <td>6.0</td>\n",
       "      <td>27.746326</td>\n",
       "      <td>228.0</td>\n",
       "    </tr>\n",
       "    <tr>\n",
       "      <th>4997</th>\n",
       "      <td>5.0</td>\n",
       "      <td>28.053086</td>\n",
       "      <td>273.0</td>\n",
       "    </tr>\n",
       "    <tr>\n",
       "      <th>4998</th>\n",
       "      <td>5.0</td>\n",
       "      <td>26.545176</td>\n",
       "      <td>262.0</td>\n",
       "    </tr>\n",
       "    <tr>\n",
       "      <th>4999</th>\n",
       "      <td>4.0</td>\n",
       "      <td>22.976887</td>\n",
       "      <td>683.0</td>\n",
       "    </tr>\n",
       "  </tbody>\n",
       "</table>\n",
       "<p>5000 rows × 3 columns</p>\n",
       "</div>"
      ],
      "text/plain": [
       "      Cigarettes per day        BMI  Cholesterol\n",
       "0                    7.0  28.429877        330.0\n",
       "1                    5.0  24.072367        337.0\n",
       "2                    5.0  27.430669        406.0\n",
       "3                    4.0  19.454446        571.0\n",
       "4                    3.0  29.218041        522.0\n",
       "...                  ...        ...          ...\n",
       "4995                 8.0  20.666335        333.0\n",
       "4996                 6.0  27.746326        228.0\n",
       "4997                 5.0  28.053086        273.0\n",
       "4998                 5.0  26.545176        262.0\n",
       "4999                 4.0  22.976887        683.0\n",
       "\n",
       "[5000 rows x 3 columns]"
      ]
     },
     "execution_count": 8,
     "metadata": {},
     "output_type": "execute_result"
    }
   ],
   "source": [
    "df.columns = ['Cigarettes per day', 'BMI', 'Cholesterol']\n",
    "df"
   ]
  },
  {
   "cell_type": "code",
   "execution_count": 10,
   "id": "e6cbb97e-c85f-4008-bdac-c94237f31288",
   "metadata": {},
   "outputs": [
    {
     "data": {
      "text/html": [
       "<div>\n",
       "<style scoped>\n",
       "    .dataframe tbody tr th:only-of-type {\n",
       "        vertical-align: middle;\n",
       "    }\n",
       "\n",
       "    .dataframe tbody tr th {\n",
       "        vertical-align: top;\n",
       "    }\n",
       "\n",
       "    .dataframe thead th {\n",
       "        text-align: right;\n",
       "    }\n",
       "</style>\n",
       "<table border=\"1\" class=\"dataframe\">\n",
       "  <thead>\n",
       "    <tr style=\"text-align: right;\">\n",
       "      <th></th>\n",
       "      <th>Cigarettes per day</th>\n",
       "      <th>BMI</th>\n",
       "      <th>Cholesterol</th>\n",
       "      <th>Risk of heart disease</th>\n",
       "    </tr>\n",
       "  </thead>\n",
       "  <tbody>\n",
       "    <tr>\n",
       "      <th>0</th>\n",
       "      <td>7.0</td>\n",
       "      <td>28.429877</td>\n",
       "      <td>330.0</td>\n",
       "      <td>no</td>\n",
       "    </tr>\n",
       "    <tr>\n",
       "      <th>1</th>\n",
       "      <td>5.0</td>\n",
       "      <td>24.072367</td>\n",
       "      <td>337.0</td>\n",
       "      <td>no</td>\n",
       "    </tr>\n",
       "    <tr>\n",
       "      <th>2</th>\n",
       "      <td>5.0</td>\n",
       "      <td>27.430669</td>\n",
       "      <td>406.0</td>\n",
       "      <td>yes</td>\n",
       "    </tr>\n",
       "    <tr>\n",
       "      <th>3</th>\n",
       "      <td>4.0</td>\n",
       "      <td>19.454446</td>\n",
       "      <td>571.0</td>\n",
       "      <td>yes</td>\n",
       "    </tr>\n",
       "    <tr>\n",
       "      <th>4</th>\n",
       "      <td>3.0</td>\n",
       "      <td>29.218041</td>\n",
       "      <td>522.0</td>\n",
       "      <td>yes</td>\n",
       "    </tr>\n",
       "    <tr>\n",
       "      <th>...</th>\n",
       "      <td>...</td>\n",
       "      <td>...</td>\n",
       "      <td>...</td>\n",
       "      <td>...</td>\n",
       "    </tr>\n",
       "    <tr>\n",
       "      <th>4995</th>\n",
       "      <td>8.0</td>\n",
       "      <td>20.666335</td>\n",
       "      <td>333.0</td>\n",
       "      <td>no</td>\n",
       "    </tr>\n",
       "    <tr>\n",
       "      <th>4996</th>\n",
       "      <td>6.0</td>\n",
       "      <td>27.746326</td>\n",
       "      <td>228.0</td>\n",
       "      <td>no</td>\n",
       "    </tr>\n",
       "    <tr>\n",
       "      <th>4997</th>\n",
       "      <td>5.0</td>\n",
       "      <td>28.053086</td>\n",
       "      <td>273.0</td>\n",
       "      <td>no</td>\n",
       "    </tr>\n",
       "    <tr>\n",
       "      <th>4998</th>\n",
       "      <td>5.0</td>\n",
       "      <td>26.545176</td>\n",
       "      <td>262.0</td>\n",
       "      <td>no</td>\n",
       "    </tr>\n",
       "    <tr>\n",
       "      <th>4999</th>\n",
       "      <td>4.0</td>\n",
       "      <td>22.976887</td>\n",
       "      <td>683.0</td>\n",
       "      <td>yes</td>\n",
       "    </tr>\n",
       "  </tbody>\n",
       "</table>\n",
       "<p>5000 rows × 4 columns</p>\n",
       "</div>"
      ],
      "text/plain": [
       "      Cigarettes per day        BMI  Cholesterol Risk of heart disease\n",
       "0                    7.0  28.429877        330.0                    no\n",
       "1                    5.0  24.072367        337.0                    no\n",
       "2                    5.0  27.430669        406.0                   yes\n",
       "3                    4.0  19.454446        571.0                   yes\n",
       "4                    3.0  29.218041        522.0                   yes\n",
       "...                  ...        ...          ...                   ...\n",
       "4995                 8.0  20.666335        333.0                    no\n",
       "4996                 6.0  27.746326        228.0                    no\n",
       "4997                 5.0  28.053086        273.0                    no\n",
       "4998                 5.0  26.545176        262.0                    no\n",
       "4999                 4.0  22.976887        683.0                   yes\n",
       "\n",
       "[5000 rows x 4 columns]"
      ]
     },
     "execution_count": 10,
     "metadata": {},
     "output_type": "execute_result"
    }
   ],
   "source": [
    "#Define list of conditions\n",
    "\n",
    "conditions = [\n",
    "    (df['Cigarettes per day'] >= 5) & (df['BMI'] >= 30) & (df['Cholesterol'] >= 240),\n",
    "    (df['Cigarettes per day'] >= 10) & (df['BMI'] >= 20) & (df['Cholesterol'] >= 200),\n",
    "    (df['Cigarettes per day'] >= 15) & (df['BMI'] >= 18.5),\n",
    "    (df['Cigarettes per day'] >= 20),\n",
    "    (df['BMI'] >= 30),\n",
    "    (df['Cholesterol'] >= 350)\n",
    "]\n",
    "\n",
    "\n",
    "\n",
    "#Set the new column values according to conditions\n",
    "risk = ['yes','yes','yes','yes','yes','yes']\n",
    "\n",
    "#Add new column based on conditions and risk:\n",
    "df['Risk of heart disease'] = np.select(conditions, risk, default='no')\n",
    "\n",
    "df"
   ]
  },
  {
   "cell_type": "code",
   "execution_count": 11,
   "id": "6f0c2663-26da-4038-a840-87423a6f3db2",
   "metadata": {},
   "outputs": [
    {
     "data": {
      "text/plain": [
       "Cigarettes per day            4.0\n",
       "BMI                      33.49995\n",
       "Cholesterol                 502.0\n",
       "Risk of heart disease         yes\n",
       "Name: 1000, dtype: object"
      ]
     },
     "execution_count": 11,
     "metadata": {},
     "output_type": "execute_result"
    }
   ],
   "source": [
    "df.loc[1000]"
   ]
  },
  {
   "cell_type": "code",
   "execution_count": null,
   "id": "6fa22655-8de6-43d5-a665-3bce71927cbc",
   "metadata": {},
   "outputs": [],
   "source": []
  }
 ],
 "metadata": {
  "kernelspec": {
   "display_name": "Python 3",
   "language": "python",
   "name": "python3"
  },
  "language_info": {
   "codemirror_mode": {
    "name": "ipython",
    "version": 3
   },
   "file_extension": ".py",
   "mimetype": "text/x-python",
   "name": "python",
   "nbconvert_exporter": "python",
   "pygments_lexer": "ipython3",
   "version": "3.8.8"
  }
 },
 "nbformat": 4,
 "nbformat_minor": 5
}
