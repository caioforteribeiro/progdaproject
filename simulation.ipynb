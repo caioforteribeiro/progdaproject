{
 "cells": [
  {
   "cell_type": "code",
   "execution_count": 1,
   "id": "5b5d3094-8d97-4802-a2b3-047addc41410",
   "metadata": {},
   "outputs": [],
   "source": [
    "import numpy as np\n",
    "\n",
    "import pandas as pd\n",
    "\n",
    "from sklearn.linear_model import LinearRegression\n",
    "\n",
    "import matplotlib.pyplot as plt\n",
    "\n",
    "import scipy.stats as stats"
   ]
  },
  {
   "cell_type": "markdown",
   "id": "0bbe6772-26b9-41cc-968c-3efe5a388478",
   "metadata": {},
   "source": [
    "### Cigarettes per day"
   ]
  },
  {
   "cell_type": "code",
   "execution_count": 2,
   "id": "650a08cf-8d00-4a45-892a-a27b7f0e4e85",
   "metadata": {
    "tags": []
   },
   "outputs": [
    {
     "data": {
      "text/plain": [
       "42"
      ]
     },
     "execution_count": 2,
     "metadata": {},
     "output_type": "execute_result"
    }
   ],
   "source": [
    "cigs_per_day = np.random.poisson(5, size=5000)\n",
    "count = np.bincount(cigs_per_day)\n",
    "count[0]"
   ]
  },
  {
   "cell_type": "markdown",
   "id": "b2b18661-7e37-4218-b135-e7e4941acbb8",
   "metadata": {},
   "source": [
    "### BMI"
   ]
  },
  {
   "cell_type": "code",
   "execution_count": 3,
   "id": "6e1569cc-1229-4fc6-8516-1ecb05c1e66b",
   "metadata": {},
   "outputs": [
    {
     "data": {
      "image/png": "[encoded data removed]",
      "text/plain": [
       "<Figure size 432x288 with 1 Axes>"
      ]
     },
     "metadata": {
      "needs_background": "light"
     },
     "output_type": "display_data"
    }
   ],
   "source": [
    "lower = 15\n",
    "upper = 50\n",
    "mu = 25\n",
    "sigma = 5\n",
    "N = 5000\n",
    "\n",
    "bmi = stats.truncnorm.rvs(\n",
    "          (lower-mu)/sigma,(upper-mu)/sigma,loc=mu,scale=sigma,size=N)\n",
    "\n",
    "\n",
    "plt.hist(bmi)\n",
    "\n",
    "plt.show()"
   ]
  },
  {
   "cell_type": "markdown",
   "id": "a09a629f-afb2-4ee9-b537-4b8605d619dd",
   "metadata": {},
   "source": [
    "### Cholesterol"
   ]
  },
  {
   "cell_type": "code",
   "execution_count": 4,
   "id": "0b380948-0a50-44b3-ba8c-2dbc99c783be",
   "metadata": {},
   "outputs": [
    {
     "data": {
      "image/png": "[encoded data removed]",
      "text/plain": [
       "<Figure size 432x288 with 1 Axes>"
      ]
     },
     "metadata": {
      "needs_background": "light"
     },
     "output_type": "display_data"
    }
   ],
   "source": [
    "valuerange = np.arange(113,697)\n",
    "\n",
    "p = np.random.rand(len(valuerange))\n",
    "p /= p.sum()\n",
    "\n",
    "chol = np.random.choice(a=valuerange, size=5000, p=p)\n",
    "\n",
    "plt.hist(chol)\n",
    "plt.show()"
   ]
  },
  {
   "cell_type": "markdown",
   "id": "df885a0a-cf3f-4fbd-98f8-d26ce6088fbc",
   "metadata": {},
   "source": [
    "## Dataframe"
   ]
  },
  {
   "cell_type": "code",
   "execution_count": 5,
   "id": "793b61c8-dc34-436d-b3fd-1bc6327099dd",
   "metadata": {},
   "outputs": [
    {
     "name": "stdout",
     "output_type": "stream",
     "text": [
      "[[  5.           4.           4.         ...   6.           4.\n",
      "    6.        ]\n",
      " [ 18.65328289  26.6054677   24.65615654 ...  18.31796174  23.95259849\n",
      "   28.61296578]\n",
      " [511.         235.         688.         ... 487.         550.\n",
      "  183.        ]]\n"
     ]
    }
   ],
   "source": [
    "data = np.array([cigs_per_day,bmi,chol])\n",
    "\n",
    "print(data)"
   ]
  },
  {
   "cell_type": "code",
   "execution_count": 6,
   "id": "2a802bf0-f39f-4ca0-9320-f357c78a6ae3",
   "metadata": {},
   "outputs": [],
   "source": [
    "df = pd.DataFrame(data).transpose()"
   ]
  },
  {
   "cell_type": "code",
   "execution_count": 7,
   "id": "a2d387d5-999d-4037-b776-ba8838c48194",
   "metadata": {},
   "outputs": [
    {
     "data": {
      "text/html": [
       "<div>\n",
       "<style scoped>\n",
       "    .dataframe tbody tr th:only-of-type {\n",
       "        vertical-align: middle;\n",
       "    }\n",
       "\n",
       "    .dataframe tbody tr th {\n",
       "        vertical-align: top;\n",
       "    }\n",
       "\n",
       "    .dataframe thead th {\n",
       "        text-align: right;\n",
       "    }\n",
       "</style>\n",
       "<table border=\"1\" class=\"dataframe\">\n",
       "  <thead>\n",
       "    <tr style=\"text-align: right;\">\n",
       "      <th></th>\n",
       "      <th>Cigarettes per day</th>\n",
       "      <th>BMI</th>\n",
       "      <th>Cholesterol</th>\n",
       "    </tr>\n",
       "  </thead>\n",
       "  <tbody>\n",
       "    <tr>\n",
       "      <th>0</th>\n",
       "      <td>5.0</td>\n",
       "      <td>18.653283</td>\n",
       "      <td>511.0</td>\n",
       "    </tr>\n",
       "    <tr>\n",
       "      <th>1</th>\n",
       "      <td>4.0</td>\n",
       "      <td>26.605468</td>\n",
       "      <td>235.0</td>\n",
       "    </tr>\n",
       "    <tr>\n",
       "      <th>2</th>\n",
       "      <td>4.0</td>\n",
       "      <td>24.656157</td>\n",
       "      <td>688.0</td>\n",
       "    </tr>\n",
       "    <tr>\n",
       "      <th>3</th>\n",
       "      <td>6.0</td>\n",
       "      <td>20.697789</td>\n",
       "      <td>262.0</td>\n",
       "    </tr>\n",
       "    <tr>\n",
       "      <th>4</th>\n",
       "      <td>4.0</td>\n",
       "      <td>30.495519</td>\n",
       "      <td>449.0</td>\n",
       "    </tr>\n",
       "    <tr>\n",
       "      <th>...</th>\n",
       "      <td>...</td>\n",
       "      <td>...</td>\n",
       "      <td>...</td>\n",
       "    </tr>\n",
       "    <tr>\n",
       "      <th>4995</th>\n",
       "      <td>4.0</td>\n",
       "      <td>24.540496</td>\n",
       "      <td>199.0</td>\n",
       "    </tr>\n",
       "    <tr>\n",
       "      <th>4996</th>\n",
       "      <td>5.0</td>\n",
       "      <td>24.192953</td>\n",
       "      <td>642.0</td>\n",
       "    </tr>\n",
       "    <tr>\n",
       "      <th>4997</th>\n",
       "      <td>6.0</td>\n",
       "      <td>18.317962</td>\n",
       "      <td>487.0</td>\n",
       "    </tr>\n",
       "    <tr>\n",
       "      <th>4998</th>\n",
       "      <td>4.0</td>\n",
       "      <td>23.952598</td>\n",
       "      <td>550.0</td>\n",
       "    </tr>\n",
       "    <tr>\n",
       "      <th>4999</th>\n",
       "      <td>6.0</td>\n",
       "      <td>28.612966</td>\n",
       "      <td>183.0</td>\n",
       "    </tr>\n",
       "  </tbody>\n",
       "</table>\n",
       "<p>5000 rows × 3 columns</p>\n",
       "</div>"
      ],
      "text/plain": [
       "      Cigarettes per day        BMI  Cholesterol\n",
       "0                    5.0  18.653283        511.0\n",
       "1                    4.0  26.605468        235.0\n",
       "2                    4.0  24.656157        688.0\n",
       "3                    6.0  20.697789        262.0\n",
       "4                    4.0  30.495519        449.0\n",
       "...                  ...        ...          ...\n",
       "4995                 4.0  24.540496        199.0\n",
       "4996                 5.0  24.192953        642.0\n",
       "4997                 6.0  18.317962        487.0\n",
       "4998                 4.0  23.952598        550.0\n",
       "4999                 6.0  28.612966        183.0\n",
       "\n",
       "[5000 rows x 3 columns]"
      ]
     },
     "execution_count": 7,
     "metadata": {},
     "output_type": "execute_result"
    }
   ],
   "source": [
    "df.columns = ['Cigarettes per day', 'BMI', 'Cholesterol']\n",
    "df"
   ]
  },
  {
   "cell_type": "code",
   "execution_count": null,
   "id": "e6cbb97e-c85f-4008-bdac-c94237f31288",
   "metadata": {},
   "outputs": [],
   "source": []
  }
 ],
 "metadata": {
  "kernelspec": {
   "display_name": "Python 3",
   "language": "python",
   "name": "python3"
  },
  "language_info": {
   "codemirror_mode": {
    "name": "ipython",
    "version": 3
   },
   "file_extension": ".py",
   "mimetype": "text/x-python",
   "name": "python",
   "nbconvert_exporter": "python",
   "pygments_lexer": "ipython3",
   "version": "3.8.8"
  }
 },
 "nbformat": 4,
 "nbformat_minor": 5
}
