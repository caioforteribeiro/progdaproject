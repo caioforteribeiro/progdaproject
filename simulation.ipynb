{
 "cells": [
  {
   "cell_type": "markdown",
   "id": "42762a17-efba-4bec-ab34-4af0b00fe300",
   "metadata": {},
   "source": [
    "# Risk factors associated with developing heart disease"
   ]
  },
  {
   "cell_type": "markdown",
   "id": "ed3e3544-47af-4c7b-b5ee-627dc3147f65",
   "metadata": {},
   "source": [
    "## About this notebook\n",
    "***"
   ]
  },
  {
   "cell_type": "markdown",
   "id": "c2c64a68-eff6-4a9f-a55e-e3412c9ec6ea",
   "metadata": {},
   "source": [
    "This notebook aims to simulate the **risk of a person developing heart disease** (our [dependent variable](https://www.verywellmind.com/what-is-a-dependent-variable-2795099)) based on 3 [independent variables](https://www.verywellmind.com/what-is-the-independent-variable-2795278):\n",
    "1. The **number of cigarettes** the person smokes per day\n",
    "2. The person's **Body Mass Index (BMI)**, calculated as the person's weight divided by their heights squared\n",
    "3. The person's **total cholesterol** levels"
   ]
  },
  {
   "cell_type": "markdown",
   "id": "c045c9e2-52a3-4290-9965-e84df0706a92",
   "metadata": {},
   "source": [
    "Our task is to build a dataframe using simulated data for each of these variables. To 'mimic' the behaviour of the data, their likely distribution and nature, as well as the relationships between independent and dependent variables, however, we have to rely on real-world data - in our case, data collected for the famous [Framingham Heart Study](https://en.wikipedia.org/wiki/Framingham_Heart_Study)."
   ]
  },
  {
   "cell_type": "markdown",
   "id": "962a1385-1222-4713-bfce-5e3dc0ce86f0",
   "metadata": {},
   "source": [
    "## The Framingham Heart Study\n",
    "***"
   ]
  },
  {
   "cell_type": "markdown",
   "id": "b666e747-fb57-4dd3-9724-9f6fa10f59b1",
   "metadata": {},
   "source": [
    "<p>In the Autumn of 1948, a pioneer study on risk factors associated with developing heart disease kickstarted in the small town of Framingham, Massachussetts. Despite being the cause of roughly half of the deaths in the US in the early 1940's, cardiovascular disease was still poorly understood in terms of prevention and treatment [1]. So much so that some argue that even the then US President, Frankling D. Roosevelt could have lived longer if only his first signs of cardiovascular disease have been detected earlier [1].The Framingham Heart Study aimed at filling that knowledge gap and investigated which factors (behavioural, physiological, demographic etc) were playing a part in the development of heart disease.</p>\n",
    "\n",
    "<p>In its first round, the study evaluated health parametres of 5,209 residents of the town, such as their dietary, exercising, and smoking habits, blood pressure, heart rate, age, and history of underlying conditions (e.g. diabetes, and/or strokes).</p>\n",
    "\n",
    "<p>When the results of the study were published nine years later, in 1957, it was the first time that tobacco consumption, obesity, high cholesterol and high blood pressure were linked with a higher risk of someone developing cardiovascular disease [2]. Since then, the study was granted funding for additional rounds, evaluating these and other parametres among the children and grandchildren of the original cohorts. It is still being conducted to this day, having gathered and analysed epidemiological data from more than 15,000 individuals from three generations for more than 70 years [3].</p>"
   ]
  },
  {
   "cell_type": "markdown",
   "id": "a78c655a-4289-4b12-b9c5-05d0a02d5713",
   "metadata": {},
   "source": [
    "## Requirements\n",
    "***"
   ]
  },
  {
   "cell_type": "markdown",
   "id": "4dde3a97-a072-460b-aea2-8e89b9c643cf",
   "metadata": {},
   "source": [
    "### Importing required packages"
   ]
  },
  {
   "cell_type": "markdown",
   "id": "f517ce93-d893-4d4f-8a96-36e6ca251f59",
   "metadata": {},
   "source": [
    "For this project, we'll need to import `numpy`, from which we will use the `numpy.random` module to create arrays of random values. We'll also need `scipy.stats` for truncated normal distributions (by using it's built-in function `truncnorm`), `pandas` for creating and manipulating our dataframe, and `matplotlib.pyplot` for plotting."
   ]
  },
  {
   "cell_type": "code",
   "execution_count": 2,
   "id": "5b5d3094-8d97-4802-a2b3-047addc41410",
   "metadata": {},
   "outputs": [],
   "source": [
    "#Arrays\n",
    "import numpy as np\n",
    "\n",
    "#Truncated normal distribution\n",
    "import scipy.stats as stats\n",
    "\n",
    "#Dataframes\n",
    "import pandas as pd\n",
    "\n",
    "#Plotting\n",
    "import matplotlib.pyplot as plt"
   ]
  },
  {
   "cell_type": "markdown",
   "id": "5aa8ed65-938b-4ab3-9549-8be0c64b030c",
   "metadata": {},
   "source": [
    "## The real-world data\n",
    "***"
   ]
  },
  {
   "cell_type": "markdown",
   "id": "23774dd6-6daf-4d7a-a515-4b661b8381be",
   "metadata": {},
   "source": [
    "<p>As mentioned above, our simulated data will be informed by real-world data from the Framingham Heart Disease Study. We though, then, that it could be useful to have a quick look into the original data to see if we can find any patterns, determine some basic parametres for our variables (such as mean, santandard deviation, min and max values, etc.), and have a general understanding of the data.</p>"
   ]
  },
  {
   "cell_type": "markdown",
   "id": "8572cc70-0571-4e0c-adea-adff371fc809",
   "metadata": {},
   "source": [
    "For that, we'll first load the data into a `pandas` dataframe."
   ]
  },
  {
   "cell_type": "markdown",
   "id": "66762c68-879b-407a-bf9c-13dd22ced168",
   "metadata": {},
   "source": [
    "**Data source:** https://www.kaggle.com/naveengowda16/logistic-regression-heart-disease-prediction/version/1"
   ]
  },
  {
   "cell_type": "code",
   "execution_count": 14,
   "id": "a29345b2-1c41-4a8e-a974-71ad55befe33",
   "metadata": {},
   "outputs": [
    {
     "data": {
      "text/html": [
       "<div>\n",
       "<style scoped>\n",
       "    .dataframe tbody tr th:only-of-type {\n",
       "        vertical-align: middle;\n",
       "    }\n",
       "\n",
       "    .dataframe tbody tr th {\n",
       "        vertical-align: top;\n",
       "    }\n",
       "\n",
       "    .dataframe thead th {\n",
       "        text-align: right;\n",
       "    }\n",
       "</style>\n",
       "<table border=\"1\" class=\"dataframe\">\n",
       "  <thead>\n",
       "    <tr style=\"text-align: right;\">\n",
       "      <th></th>\n",
       "      <th>male</th>\n",
       "      <th>age</th>\n",
       "      <th>education</th>\n",
       "      <th>currentSmoker</th>\n",
       "      <th>cigsPerDay</th>\n",
       "      <th>BPMeds</th>\n",
       "      <th>prevalentStroke</th>\n",
       "      <th>prevalentHyp</th>\n",
       "      <th>diabetes</th>\n",
       "      <th>totChol</th>\n",
       "      <th>sysBP</th>\n",
       "      <th>diaBP</th>\n",
       "      <th>BMI</th>\n",
       "      <th>heartRate</th>\n",
       "      <th>glucose</th>\n",
       "      <th>TenYearCHD</th>\n",
       "    </tr>\n",
       "  </thead>\n",
       "  <tbody>\n",
       "    <tr>\n",
       "      <th>0</th>\n",
       "      <td>1</td>\n",
       "      <td>39</td>\n",
       "      <td>4.0</td>\n",
       "      <td>0</td>\n",
       "      <td>0.0</td>\n",
       "      <td>0.0</td>\n",
       "      <td>0</td>\n",
       "      <td>0</td>\n",
       "      <td>0</td>\n",
       "      <td>195.0</td>\n",
       "      <td>106.0</td>\n",
       "      <td>70.0</td>\n",
       "      <td>26.97</td>\n",
       "      <td>80.0</td>\n",
       "      <td>77.0</td>\n",
       "      <td>0</td>\n",
       "    </tr>\n",
       "    <tr>\n",
       "      <th>1</th>\n",
       "      <td>0</td>\n",
       "      <td>46</td>\n",
       "      <td>2.0</td>\n",
       "      <td>0</td>\n",
       "      <td>0.0</td>\n",
       "      <td>0.0</td>\n",
       "      <td>0</td>\n",
       "      <td>0</td>\n",
       "      <td>0</td>\n",
       "      <td>250.0</td>\n",
       "      <td>121.0</td>\n",
       "      <td>81.0</td>\n",
       "      <td>28.73</td>\n",
       "      <td>95.0</td>\n",
       "      <td>76.0</td>\n",
       "      <td>0</td>\n",
       "    </tr>\n",
       "    <tr>\n",
       "      <th>2</th>\n",
       "      <td>1</td>\n",
       "      <td>48</td>\n",
       "      <td>1.0</td>\n",
       "      <td>1</td>\n",
       "      <td>20.0</td>\n",
       "      <td>0.0</td>\n",
       "      <td>0</td>\n",
       "      <td>0</td>\n",
       "      <td>0</td>\n",
       "      <td>245.0</td>\n",
       "      <td>127.5</td>\n",
       "      <td>80.0</td>\n",
       "      <td>25.34</td>\n",
       "      <td>75.0</td>\n",
       "      <td>70.0</td>\n",
       "      <td>0</td>\n",
       "    </tr>\n",
       "    <tr>\n",
       "      <th>3</th>\n",
       "      <td>0</td>\n",
       "      <td>61</td>\n",
       "      <td>3.0</td>\n",
       "      <td>1</td>\n",
       "      <td>30.0</td>\n",
       "      <td>0.0</td>\n",
       "      <td>0</td>\n",
       "      <td>1</td>\n",
       "      <td>0</td>\n",
       "      <td>225.0</td>\n",
       "      <td>150.0</td>\n",
       "      <td>95.0</td>\n",
       "      <td>28.58</td>\n",
       "      <td>65.0</td>\n",
       "      <td>103.0</td>\n",
       "      <td>1</td>\n",
       "    </tr>\n",
       "    <tr>\n",
       "      <th>4</th>\n",
       "      <td>0</td>\n",
       "      <td>46</td>\n",
       "      <td>3.0</td>\n",
       "      <td>1</td>\n",
       "      <td>23.0</td>\n",
       "      <td>0.0</td>\n",
       "      <td>0</td>\n",
       "      <td>0</td>\n",
       "      <td>0</td>\n",
       "      <td>285.0</td>\n",
       "      <td>130.0</td>\n",
       "      <td>84.0</td>\n",
       "      <td>23.10</td>\n",
       "      <td>85.0</td>\n",
       "      <td>85.0</td>\n",
       "      <td>0</td>\n",
       "    </tr>\n",
       "  </tbody>\n",
       "</table>\n",
       "</div>"
      ],
      "text/plain": [
       "   male  age  education  currentSmoker  cigsPerDay  BPMeds  prevalentStroke  \\\n",
       "0     1   39        4.0              0         0.0     0.0                0   \n",
       "1     0   46        2.0              0         0.0     0.0                0   \n",
       "2     1   48        1.0              1        20.0     0.0                0   \n",
       "3     0   61        3.0              1        30.0     0.0                0   \n",
       "4     0   46        3.0              1        23.0     0.0                0   \n",
       "\n",
       "   prevalentHyp  diabetes  totChol  sysBP  diaBP    BMI  heartRate  glucose  \\\n",
       "0             0         0    195.0  106.0   70.0  26.97       80.0     77.0   \n",
       "1             0         0    250.0  121.0   81.0  28.73       95.0     76.0   \n",
       "2             0         0    245.0  127.5   80.0  25.34       75.0     70.0   \n",
       "3             1         0    225.0  150.0   95.0  28.58       65.0    103.0   \n",
       "4             0         0    285.0  130.0   84.0  23.10       85.0     85.0   \n",
       "\n",
       "   TenYearCHD  \n",
       "0           0  \n",
       "1           0  \n",
       "2           0  \n",
       "3           1  \n",
       "4           0  "
      ]
     },
     "execution_count": 14,
     "metadata": {},
     "output_type": "execute_result"
    }
   ],
   "source": [
    "#Load dataset into pandas\n",
    "original_df = pd.read_csv('data/framingham_heart_disease.csv')\n",
    "\n",
    "#Show first 5 rows\n",
    "original_df.head()"
   ]
  },
  {
   "cell_type": "markdown",
   "id": "a83b64ff-5b71-4146-9b9b-2136a1a3e444",
   "metadata": {},
   "source": [
    "The original dataset has a number of other variables that we won't consider for the purpose of this simulation. Here, we only need to understand the data about number of cigarettes smoked per day, total cholesterol, BMI, and the risk of developing a heart disease in ten years (TenYearCHD, where 1 means 'yes' and 0 means 'no'). First thing we need to do, then, is to drop all other columns and keep only those that are interesting to us. After that, we can use the `DataFrame.describe()` function in `pandas` to get more information about these data."
   ]
  },
  {
   "cell_type": "code",
   "execution_count": 16,
   "id": "fc3aa20c-9358-4e0b-b183-bcf407587343",
   "metadata": {},
   "outputs": [
    {
     "data": {
      "text/html": [
       "<div>\n",
       "<style scoped>\n",
       "    .dataframe tbody tr th:only-of-type {\n",
       "        vertical-align: middle;\n",
       "    }\n",
       "\n",
       "    .dataframe tbody tr th {\n",
       "        vertical-align: top;\n",
       "    }\n",
       "\n",
       "    .dataframe thead th {\n",
       "        text-align: right;\n",
       "    }\n",
       "</style>\n",
       "<table border=\"1\" class=\"dataframe\">\n",
       "  <thead>\n",
       "    <tr style=\"text-align: right;\">\n",
       "      <th></th>\n",
       "      <th>cigsPerDay</th>\n",
       "      <th>totChol</th>\n",
       "      <th>BMI</th>\n",
       "      <th>TenYearCHD</th>\n",
       "    </tr>\n",
       "  </thead>\n",
       "  <tbody>\n",
       "    <tr>\n",
       "      <th>count</th>\n",
       "      <td>4209.000000</td>\n",
       "      <td>4188.000000</td>\n",
       "      <td>4219.000000</td>\n",
       "      <td>4238.000000</td>\n",
       "    </tr>\n",
       "    <tr>\n",
       "      <th>mean</th>\n",
       "      <td>9.003089</td>\n",
       "      <td>236.721585</td>\n",
       "      <td>25.802008</td>\n",
       "      <td>0.151958</td>\n",
       "    </tr>\n",
       "    <tr>\n",
       "      <th>std</th>\n",
       "      <td>11.920094</td>\n",
       "      <td>44.590334</td>\n",
       "      <td>4.080111</td>\n",
       "      <td>0.359023</td>\n",
       "    </tr>\n",
       "    <tr>\n",
       "      <th>min</th>\n",
       "      <td>0.000000</td>\n",
       "      <td>107.000000</td>\n",
       "      <td>15.540000</td>\n",
       "      <td>0.000000</td>\n",
       "    </tr>\n",
       "    <tr>\n",
       "      <th>25%</th>\n",
       "      <td>0.000000</td>\n",
       "      <td>206.000000</td>\n",
       "      <td>23.070000</td>\n",
       "      <td>0.000000</td>\n",
       "    </tr>\n",
       "    <tr>\n",
       "      <th>50%</th>\n",
       "      <td>0.000000</td>\n",
       "      <td>234.000000</td>\n",
       "      <td>25.400000</td>\n",
       "      <td>0.000000</td>\n",
       "    </tr>\n",
       "    <tr>\n",
       "      <th>75%</th>\n",
       "      <td>20.000000</td>\n",
       "      <td>263.000000</td>\n",
       "      <td>28.040000</td>\n",
       "      <td>0.000000</td>\n",
       "    </tr>\n",
       "    <tr>\n",
       "      <th>max</th>\n",
       "      <td>70.000000</td>\n",
       "      <td>696.000000</td>\n",
       "      <td>56.800000</td>\n",
       "      <td>1.000000</td>\n",
       "    </tr>\n",
       "  </tbody>\n",
       "</table>\n",
       "</div>"
      ],
      "text/plain": [
       "        cigsPerDay      totChol          BMI   TenYearCHD\n",
       "count  4209.000000  4188.000000  4219.000000  4238.000000\n",
       "mean      9.003089   236.721585    25.802008     0.151958\n",
       "std      11.920094    44.590334     4.080111     0.359023\n",
       "min       0.000000   107.000000    15.540000     0.000000\n",
       "25%       0.000000   206.000000    23.070000     0.000000\n",
       "50%       0.000000   234.000000    25.400000     0.000000\n",
       "75%      20.000000   263.000000    28.040000     0.000000\n",
       "max      70.000000   696.000000    56.800000     1.000000"
      ]
     },
     "execution_count": 16,
     "metadata": {},
     "output_type": "execute_result"
    }
   ],
   "source": [
    "#Keep only our variables of interest\n",
    "original_df = original_df[['cigsPerDay','totChol','BMI','TenYearCHD']]\n",
    "\n",
    "#Describe variables\n",
    "original_df.describe()"
   ]
  },
  {
   "cell_type": "markdown",
   "id": "40283741-7b19-40a2-82d4-a3361bcf4ae2",
   "metadata": {},
   "source": [
    "Now that we know each variable's means, min and max values and standard deviations, we can try to plot them and see how their distributions loook like.\n",
    "We'll do this using the `fig,ax = plt.subplot()` method in `pyplot`, in which we define the attributes of our figure (`fig`) as well as our sets of axes (`ax1`, `ax2`, etc.) and plot a histogram of each variable using `plt.hist()`."
   ]
  },
  {
   "cell_type": "code",
   "execution_count": 17,
   "id": "4b6cb7f0-c4fb-40f2-9f41-804db05206ae",
   "metadata": {},
   "outputs": [
    {
     "data": {
      "image/png": "[encoded data removed]",
      "text/plain": [
       "<Figure size 720x720 with 4 Axes>"
      ]
     },
     "metadata": {
      "needs_background": "light"
     },
     "output_type": "display_data"
    }
   ],
   "source": [
    "#Define subplots\n",
    "fig,([ax1,ax2],[ax3,ax4]) = plt.subplots(2,2,figsize = (10,10))\n",
    "\n",
    "#Set variables\n",
    "cigs = original_df['cigsPerDay']\n",
    "totChol = original_df['totChol']\n",
    "BMI = original_df['BMI']\n",
    "TYCHD = original_df['TenYearCHD']\n",
    "\n",
    "\n",
    "\n",
    "#Set plot titles\n",
    "ax1.set_title('Cigarettes per day')\n",
    "ax2.set_title('Cholesterol')\n",
    "ax3.set_title('BMI')\n",
    "ax4.set_title('Heart disease')\n",
    "\n",
    "\n",
    "#What to plot in each ax\n",
    "ax1.hist(cigs)\n",
    "ax2.hist(totChol)\n",
    "ax3.hist(BMI)\n",
    "ax4.hist(TYCHD)\n",
    "\n",
    "plt.show()\n"
   ]
  },
  {
   "cell_type": "markdown",
   "id": "55168ab6-42bb-45f1-9fc8-1b2d58fe9425",
   "metadata": {},
   "source": [
    "## Simulating data\n",
    "***"
   ]
  },
  {
   "cell_type": "markdown",
   "id": "ecadd6a7-06af-4a39-9cc3-6c12bd345f2b",
   "metadata": {},
   "source": [
    "<p>Data simulation is a process of generating random data following stochastic - or random - processes (i.e. processes of collecting random variables that are indexed against another variable or set of variables) [4][5]. Running a simulation is useful when you know the nature and the likely behaviour of different variables in a given system, but want to understand their interdependencies, how they impact a given outcome, or to test the validity of a model or an algorithm.</p>"
   ]
  },
  {
   "cell_type": "markdown",
   "id": "9b121a37-1818-4c1c-8ae6-ba1a122b0333",
   "metadata": {},
   "source": [
    "## Independent variables\n",
    "***"
   ]
  },
  {
   "cell_type": "markdown",
   "id": "0bbe6772-26b9-41cc-968c-3efe5a388478",
   "metadata": {},
   "source": [
    "### Cigarettes per day"
   ]
  },
  {
   "cell_type": "markdown",
   "id": "ee365b6e-0565-4412-99f2-67df5e085f03",
   "metadata": {},
   "source": [
    "<p>Cigarettes are now known as a common risk factor for developing heart disease, with approximately a fifth of all deaths from heart disease in the US directly linked to smoking habits [6]. Not only that, but the risk of developing heart disease increases significantly according to the number of cigarettes a person smokes per day. For instance, someone who smokes a pack of cigarettes every day (i.e. 20 cigarettes per day) has twice the chance of developing heart disease compared to a non-smoker [6].</p>"
   ]
  },
  {
   "cell_type": "markdown",
   "id": "3f2fe786-052d-4b16-a9df-ac3a9b156fff",
   "metadata": {},
   "source": [
    "Real-world data from the Framingham study indicate that out of their 5,209 people sample, most smoked up to 5 cigarettes a day, with another peak at between 15 and 20 cigarettes per day. Very few people smoked a number of cigarettes outside of these parametres. To emulate this, we made approximations for observations above 10 cigarettes per day, considering only 10, 15, 20, 25, 30, and then 40, 50, 60, and 70 (our values for `a`). Per se, the number of cigarettes one can smoke in a day cannot be considered [discrete data](https://www.thedrum.com/profile/whatagraph/news/discrete-vs-continuous-data-whats-the-difference#:~:text=Discrete%20data%20is%20a%20count,%2C%20and%20non%2Dnegative%20integers.), as one can smoke half or 3/4 of a cigarette every day. We looked at it as dicrete only to simplify our probabilities (`p`) - otherwise, we'll end up with a non-unifom distributed array of 70 random probabilities which does not correspond to the data observed in the real-world."
   ]
  },
  {
   "cell_type": "markdown",
   "id": "af280445-2102-46e2-ba05-05fb35fbf48d",
   "metadata": {},
   "source": [
    "Our variable `cigs_per_day` is then an array of 5,209 randomly picked values from the array `a`, each corresponding to a probability of happening `p`. This was done using the `np.random.choice()` function, which generates a random sample of a given 1-D array following a specified distribution (or a uniform distribution if `p` is not given) \\[7\\]."
   ]
  },
  {
   "cell_type": "code",
   "execution_count": 4,
   "id": "650a08cf-8d00-4a45-892a-a27b7f0e4e85",
   "metadata": {
    "tags": []
   },
   "outputs": [
    {
     "data": {
      "image/png": "[encoded data removed]",
      "text/plain": [
       "<Figure size 432x288 with 1 Axes>"
      ]
     },
     "metadata": {
      "needs_background": "light"
     },
     "output_type": "display_data"
    }
   ],
   "source": [
    "#Number of possible cigarettes per day\n",
    "a = np.array([0,1,2,3,4,5,6,7,8,9,10,15,20,25,30,40,50,60,70])\n",
    "\n",
    "#Probability, based on real-world data\n",
    "p = np.array([0.2,0.1,0.1,0.1,0.1,0.01,0.01,0.01,0.01,0.01,0.01,0.01,0.2,0.05,0.02,0.02,0.01,0.02,0.01])\n",
    "\n",
    "#Random array of 5209 values based on a and p\n",
    "cigs_per_day = np.random.choice(a=a, size=5209, p=p)\n",
    "\n",
    "plt.title('Cigarettes per day')\n",
    "plt.hist(cigs_per_day)\n",
    "plt.show()"
   ]
  },
  {
   "cell_type": "markdown",
   "id": "4320473c-a3c4-4b3a-8196-efc97135445b",
   "metadata": {},
   "source": [
    "### Cholesterol"
   ]
  },
  {
   "cell_type": "markdown",
   "id": "e42a9307-d18f-403e-80bd-8577358b4cdb",
   "metadata": {},
   "source": [
    "Cholesterol refers to lypids naturally produced by the liver and ingested through a fat rich diet. There is 'good' (HDL) and 'bad' (LDL) cholesterol, which can clean up and build up in a person's arteries, respectively \\[8\\]. Total cholesterol includes both. Various factors can affect the cholesterol levels of a person, such as diet, exercise, smoking habits, so the total cholesterol is a good indicator of the person's overall health \\[9\\].\n",
    "\n",
    "Healthy levels of cholesterol vary according to the person's age, sex, underlying conditions, dietary and lifestyle habits, but a useful approximation can be given by the table below:\n",
    "\n",
    "| Total cholesterol  | Category         |\n",
    "|   :-------------:  |  :-------------: |\n",
    "| Less than 200      | Desirable        |\n",
    "| 200 - 239          | Borderline high  |\n",
    "| Above 240          | High             |\n",
    "\n",
    "**Source:** [webmd.com](https://www.webmd.com/heart-disease/guide/heart-disease-lower-cholesterol-risk)"
   ]
  },
  {
   "cell_type": "markdown",
   "id": "c708888f-8536-41e2-b0fa-2a49fdf0ff8a",
   "metadata": {},
   "source": [
    "Again, here we simplified real-world observations and considered that cholesterol levels follow a normal distribution centred around 237 and with a stardard deviation of about 45 (values taken from the description of the original dataset). However, we noticed that cholesterol levels are all integers (discrete data), whist `np.random.normal()` would return an array of floats. A workaround - not ideal, but sufficient for our purpose - was to round the random array to have only integers in our variable `chol`. We did that using `np.round()` \\[10\\]\\[11\\]."
   ]
  },
  {
   "cell_type": "code",
   "execution_count": 7,
   "id": "891f7c81-2648-46b1-bf6a-fbe71f96fab8",
   "metadata": {},
   "outputs": [
    {
     "data": {
      "image/png": "[encoded data removed]",
      "text/plain": [
       "<Figure size 432x288 with 1 Axes>"
      ]
     },
     "metadata": {
      "needs_background": "light"
     },
     "output_type": "display_data"
    }
   ],
   "source": [
    "#Normal distribution based on real-world data description\n",
    "randomFloats = np.random.normal(237,45, size=(5209))\n",
    "\n",
    "#Cholesterol has only round values\n",
    "chol = np.round(randomFloats)\n",
    "\n",
    "plt.title('Cholesterol')\n",
    "plt.hist(chol)\n",
    "plt.show()"
   ]
  },
  {
   "cell_type": "markdown",
   "id": "b2b18661-7e37-4218-b135-e7e4941acbb8",
   "metadata": {},
   "source": [
    "### BMI"
   ]
  },
  {
   "cell_type": "markdown",
   "id": "13cf8b62-2206-418e-a005-7b14b3f586ba",
   "metadata": {},
   "source": [
    "The Body Mass Index (BMI) is a weight-based measure that can indicate the level of body fatness of a person - that is, based on the person's weight and height, it indicates whether s/he is underweight, overweight, or within a normal weight, as well as the degree of under or overweightness. The BMI is measured by dividig a person's weight in kilograms by their squared height in metres \\[12\\]."
   ]
  },
  {
   "cell_type": "markdown",
   "id": "2c50ac4c-c24b-4cd4-9183-d0f68ef406a1",
   "metadata": {},
   "source": [
    "The table below provides some parametres for evaluating BMI:\n",
    "\n",
    "| BMI         | Weight status |\n",
    "| :---------: | :-----------: |\n",
    "| Below 18.5  | Underweight   |\n",
    "| 18.5 - 24.9 | Healthy       |\n",
    "| 25 - 29.9   | Overweight    |\n",
    "| 30 and above| Obese         |\n",
    "\n",
    "**Source:** [cdc.gov](https://www.cdc.gov/healthyweight/assessing/bmi/adult_bmi/english_bmi_calculator/bmi_calculator.html)"
   ]
  },
  {
   "cell_type": "markdown",
   "id": "91226d93-9ce6-4f39-88e4-5dc06588340e",
   "metadata": {},
   "source": [
    "Obesity, which can be quantified by a BMI above 30, is known to significantly increase the risk of heart disease \\[13\\].\n",
    "\n",
    "Our reference real-world data showed a peak between 25-30, indicating that the majority of the sample was, according to the table above, overweight. To mimic the data on BMI, we considered that it followed a truncated normal distribution (i.e., a normal distribution bounded by lower and upper values). We also know that BMI is continuous data, so it accepts floats as values, that our data had a max value of 56.8 (`upper`), a min of 15.54 (`lower`), a mean of 25 (`mu`), and a std of 4.08 (`sigma`).\n",
    "\n",
    "With these numbers, plus the size of the sample, we got our random BMI values using the `stats.truncnorm.rvs()` function \\[14\\]."
   ]
  },
  {
   "cell_type": "code",
   "execution_count": 10,
   "id": "6e1569cc-1229-4fc6-8516-1ecb05c1e66b",
   "metadata": {},
   "outputs": [
    {
     "data": {
      "image/png": "[encoded data removed]",
      "text/plain": [
       "<Figure size 432x288 with 1 Axes>"
      ]
     },
     "metadata": {
      "needs_background": "light"
     },
     "output_type": "display_data"
    }
   ],
   "source": [
    "#Define boundaries, mean, std, and sample size\n",
    "lower = 15.54\n",
    "upper = 56.8\n",
    "mu = 25\n",
    "sigma = 4.08\n",
    "sample = 5209\n",
    "\n",
    "#Random variates with truncated normal distribution\n",
    "bmi = stats.truncnorm.rvs(\n",
    "          (lower-mu)/sigma,(upper-mu)/sigma,loc=mu,scale=sigma,size=sample)\n",
    "\n",
    "\n",
    "plt.title('BMI')\n",
    "plt.hist(bmi)\n",
    "\n",
    "plt.show()"
   ]
  },
  {
   "cell_type": "markdown",
   "id": "df885a0a-cf3f-4fbd-98f8-d26ce6088fbc",
   "metadata": {},
   "source": [
    "## Dataframe"
   ]
  },
  {
   "cell_type": "code",
   "execution_count": 28,
   "id": "793b61c8-dc34-436d-b3fd-1bc6327099dd",
   "metadata": {},
   "outputs": [
    {
     "data": {
      "text/html": [
       "<div>\n",
       "<style scoped>\n",
       "    .dataframe tbody tr th:only-of-type {\n",
       "        vertical-align: middle;\n",
       "    }\n",
       "\n",
       "    .dataframe tbody tr th {\n",
       "        vertical-align: top;\n",
       "    }\n",
       "\n",
       "    .dataframe thead th {\n",
       "        text-align: right;\n",
       "    }\n",
       "</style>\n",
       "<table border=\"1\" class=\"dataframe\">\n",
       "  <thead>\n",
       "    <tr style=\"text-align: right;\">\n",
       "      <th></th>\n",
       "      <th>Cigarettes per day</th>\n",
       "      <th>BMI</th>\n",
       "      <th>Cholesterol</th>\n",
       "    </tr>\n",
       "  </thead>\n",
       "  <tbody>\n",
       "    <tr>\n",
       "      <th>298</th>\n",
       "      <td>2.0</td>\n",
       "      <td>17.456449</td>\n",
       "      <td>298.813241</td>\n",
       "    </tr>\n",
       "    <tr>\n",
       "      <th>1281</th>\n",
       "      <td>1.0</td>\n",
       "      <td>25.409122</td>\n",
       "      <td>189.480502</td>\n",
       "    </tr>\n",
       "    <tr>\n",
       "      <th>1695</th>\n",
       "      <td>4.0</td>\n",
       "      <td>32.524964</td>\n",
       "      <td>224.434484</td>\n",
       "    </tr>\n",
       "    <tr>\n",
       "      <th>3923</th>\n",
       "      <td>60.0</td>\n",
       "      <td>25.706996</td>\n",
       "      <td>210.345075</td>\n",
       "    </tr>\n",
       "    <tr>\n",
       "      <th>2376</th>\n",
       "      <td>3.0</td>\n",
       "      <td>38.549926</td>\n",
       "      <td>150.804774</td>\n",
       "    </tr>\n",
       "  </tbody>\n",
       "</table>\n",
       "</div>"
      ],
      "text/plain": [
       "      Cigarettes per day        BMI  Cholesterol\n",
       "298                  2.0  17.456449   298.813241\n",
       "1281                 1.0  25.409122   189.480502\n",
       "1695                 4.0  32.524964   224.434484\n",
       "3923                60.0  25.706996   210.345075\n",
       "2376                 3.0  38.549926   150.804774"
      ]
     },
     "execution_count": 28,
     "metadata": {},
     "output_type": "execute_result"
    }
   ],
   "source": [
    "data = np.array([cigs_per_day,bmi,chol])\n",
    "\n",
    "#Swap columns and rows\n",
    "df = pd.DataFrame(data).transpose()\n",
    "\n",
    "#Rename columns\n",
    "df.columns = ['Cigarettes per day', 'BMI', 'Cholesterol']\n",
    "\n",
    "#Sample of 5 random rows\n",
    "df.sample(5)"
   ]
  },
  {
   "cell_type": "markdown",
   "id": "39fdff14-add6-496d-ab8f-05f93c9bfec8",
   "metadata": {},
   "source": [
    "### Adding dependent variable (Risk)"
   ]
  },
  {
   "cell_type": "code",
   "execution_count": 33,
   "id": "e6cbb97e-c85f-4008-bdac-c94237f31288",
   "metadata": {},
   "outputs": [
    {
     "data": {
      "text/html": [
       "<div>\n",
       "<style scoped>\n",
       "    .dataframe tbody tr th:only-of-type {\n",
       "        vertical-align: middle;\n",
       "    }\n",
       "\n",
       "    .dataframe tbody tr th {\n",
       "        vertical-align: top;\n",
       "    }\n",
       "\n",
       "    .dataframe thead th {\n",
       "        text-align: right;\n",
       "    }\n",
       "</style>\n",
       "<table border=\"1\" class=\"dataframe\">\n",
       "  <thead>\n",
       "    <tr style=\"text-align: right;\">\n",
       "      <th></th>\n",
       "      <th>Cigarettes per day</th>\n",
       "      <th>BMI</th>\n",
       "      <th>Cholesterol</th>\n",
       "      <th>Risk of heart disease</th>\n",
       "    </tr>\n",
       "  </thead>\n",
       "  <tbody>\n",
       "    <tr>\n",
       "      <th>0</th>\n",
       "      <td>2.0</td>\n",
       "      <td>31.010046</td>\n",
       "      <td>218.271201</td>\n",
       "      <td>Very high</td>\n",
       "    </tr>\n",
       "    <tr>\n",
       "      <th>1</th>\n",
       "      <td>3.0</td>\n",
       "      <td>19.690348</td>\n",
       "      <td>208.837081</td>\n",
       "      <td>High</td>\n",
       "    </tr>\n",
       "    <tr>\n",
       "      <th>2</th>\n",
       "      <td>1.0</td>\n",
       "      <td>30.427676</td>\n",
       "      <td>231.801935</td>\n",
       "      <td>Very high</td>\n",
       "    </tr>\n",
       "    <tr>\n",
       "      <th>3</th>\n",
       "      <td>2.0</td>\n",
       "      <td>25.573672</td>\n",
       "      <td>257.714217</td>\n",
       "      <td>Low</td>\n",
       "    </tr>\n",
       "    <tr>\n",
       "      <th>4</th>\n",
       "      <td>2.0</td>\n",
       "      <td>19.960276</td>\n",
       "      <td>248.167969</td>\n",
       "      <td>High</td>\n",
       "    </tr>\n",
       "    <tr>\n",
       "      <th>...</th>\n",
       "      <td>...</td>\n",
       "      <td>...</td>\n",
       "      <td>...</td>\n",
       "      <td>...</td>\n",
       "    </tr>\n",
       "    <tr>\n",
       "      <th>5204</th>\n",
       "      <td>20.0</td>\n",
       "      <td>30.613811</td>\n",
       "      <td>180.572389</td>\n",
       "      <td>Very high</td>\n",
       "    </tr>\n",
       "    <tr>\n",
       "      <th>5205</th>\n",
       "      <td>0.0</td>\n",
       "      <td>24.207761</td>\n",
       "      <td>172.346791</td>\n",
       "      <td>Moderate</td>\n",
       "    </tr>\n",
       "    <tr>\n",
       "      <th>5206</th>\n",
       "      <td>0.0</td>\n",
       "      <td>23.014267</td>\n",
       "      <td>233.811355</td>\n",
       "      <td>High</td>\n",
       "    </tr>\n",
       "    <tr>\n",
       "      <th>5207</th>\n",
       "      <td>4.0</td>\n",
       "      <td>30.277685</td>\n",
       "      <td>328.527764</td>\n",
       "      <td>Very high</td>\n",
       "    </tr>\n",
       "    <tr>\n",
       "      <th>5208</th>\n",
       "      <td>0.0</td>\n",
       "      <td>27.581623</td>\n",
       "      <td>176.773005</td>\n",
       "      <td>Low</td>\n",
       "    </tr>\n",
       "  </tbody>\n",
       "</table>\n",
       "<p>5209 rows × 4 columns</p>\n",
       "</div>"
      ],
      "text/plain": [
       "      Cigarettes per day        BMI  Cholesterol Risk of heart disease\n",
       "0                    2.0  31.010046   218.271201             Very high\n",
       "1                    3.0  19.690348   208.837081                  High\n",
       "2                    1.0  30.427676   231.801935             Very high\n",
       "3                    2.0  25.573672   257.714217                   Low\n",
       "4                    2.0  19.960276   248.167969                  High\n",
       "...                  ...        ...          ...                   ...\n",
       "5204                20.0  30.613811   180.572389             Very high\n",
       "5205                 0.0  24.207761   172.346791              Moderate\n",
       "5206                 0.0  23.014267   233.811355                  High\n",
       "5207                 4.0  30.277685   328.527764             Very high\n",
       "5208                 0.0  27.581623   176.773005                   Low\n",
       "\n",
       "[5209 rows x 4 columns]"
      ]
     },
     "execution_count": 33,
     "metadata": {},
     "output_type": "execute_result"
    }
   ],
   "source": [
    "#Define list of conditions\n",
    "\n",
    "conditions = [\n",
    "    (df['Cigarettes per day'] >= 20), #Heavy smokers\n",
    "    (df['BMI'] >= 30),                #Obesity\n",
    "    (df['Cholesterol'] >= 350),       #High cholesterol\n",
    "    (df['Cigarettes per day'] >= 10) & (df['Cigarettes per day'] < 20) & (df['BMI'] >= 25) & (df['BMI'] < 30),\n",
    "    (df['BMI'] < 25) & (df['Cholesterol'] >= 200) & (df['Cholesterol'] < 350),\n",
    "     (df['BMI'] < 25) & (df['Cholesterol'] > 130) & (df['Cholesterol'] < 200),\n",
    "    (df['Cigarettes per day']<=5) & (df['BMI'] >= 18.5) & (df['BMI'] <= 20) & (df['Cholesterol'] <= 130),    \n",
    "]\n",
    "\n",
    "\n",
    "\n",
    "#Set values for new column according to conditions\n",
    "risk = ['Very high','Very high','Very high','High','High', 'Moderate','Very low']\n",
    "\n",
    "#Add new column based on conditions and risk\n",
    "df['Risk of heart disease'] = np.select(conditions, risk, default='Low')\n",
    "\n",
    "df"
   ]
  },
  {
   "cell_type": "code",
   "execution_count": 34,
   "id": "6f0c2663-26da-4038-a840-87423a6f3db2",
   "metadata": {},
   "outputs": [
    {
     "data": {
      "text/html": [
       "<div>\n",
       "<style scoped>\n",
       "    .dataframe tbody tr th:only-of-type {\n",
       "        vertical-align: middle;\n",
       "    }\n",
       "\n",
       "    .dataframe tbody tr th {\n",
       "        vertical-align: top;\n",
       "    }\n",
       "\n",
       "    .dataframe thead th {\n",
       "        text-align: right;\n",
       "    }\n",
       "</style>\n",
       "<table border=\"1\" class=\"dataframe\">\n",
       "  <thead>\n",
       "    <tr style=\"text-align: right;\">\n",
       "      <th></th>\n",
       "      <th>Cigarettes per day</th>\n",
       "      <th>BMI</th>\n",
       "      <th>Cholesterol</th>\n",
       "    </tr>\n",
       "  </thead>\n",
       "  <tbody>\n",
       "    <tr>\n",
       "      <th>count</th>\n",
       "      <td>5209.000000</td>\n",
       "      <td>5209.000000</td>\n",
       "      <td>5209.000000</td>\n",
       "    </tr>\n",
       "    <tr>\n",
       "      <th>mean</th>\n",
       "      <td>10.721444</td>\n",
       "      <td>25.355968</td>\n",
       "      <td>236.337064</td>\n",
       "    </tr>\n",
       "    <tr>\n",
       "      <th>std</th>\n",
       "      <td>14.279299</td>\n",
       "      <td>4.621669</td>\n",
       "      <td>44.729645</td>\n",
       "    </tr>\n",
       "    <tr>\n",
       "      <th>min</th>\n",
       "      <td>0.000000</td>\n",
       "      <td>15.013187</td>\n",
       "      <td>73.803813</td>\n",
       "    </tr>\n",
       "    <tr>\n",
       "      <th>25%</th>\n",
       "      <td>1.000000</td>\n",
       "      <td>22.045169</td>\n",
       "      <td>206.147093</td>\n",
       "    </tr>\n",
       "    <tr>\n",
       "      <th>50%</th>\n",
       "      <td>4.000000</td>\n",
       "      <td>25.256637</td>\n",
       "      <td>235.872478</td>\n",
       "    </tr>\n",
       "    <tr>\n",
       "      <th>75%</th>\n",
       "      <td>20.000000</td>\n",
       "      <td>28.464993</td>\n",
       "      <td>266.764019</td>\n",
       "    </tr>\n",
       "    <tr>\n",
       "      <th>max</th>\n",
       "      <td>70.000000</td>\n",
       "      <td>42.415472</td>\n",
       "      <td>386.180168</td>\n",
       "    </tr>\n",
       "  </tbody>\n",
       "</table>\n",
       "</div>"
      ],
      "text/plain": [
       "       Cigarettes per day          BMI  Cholesterol\n",
       "count         5209.000000  5209.000000  5209.000000\n",
       "mean            10.721444    25.355968   236.337064\n",
       "std             14.279299     4.621669    44.729645\n",
       "min              0.000000    15.013187    73.803813\n",
       "25%              1.000000    22.045169   206.147093\n",
       "50%              4.000000    25.256637   235.872478\n",
       "75%             20.000000    28.464993   266.764019\n",
       "max             70.000000    42.415472   386.180168"
      ]
     },
     "execution_count": 34,
     "metadata": {},
     "output_type": "execute_result"
    }
   ],
   "source": [
    "df.describe()"
   ]
  },
  {
   "cell_type": "markdown",
   "id": "9460ca8d-f3bb-43d8-8e08-2e617f8f69c8",
   "metadata": {},
   "source": [
    "## References\n",
    "***"
   ]
  },
  {
   "cell_type": "markdown",
   "id": "c4192517-273a-4a8b-8625-6c4a5968cf30",
   "metadata": {},
   "source": [
    "[1]. https://www.ncbi.nlm.nih.gov/pmc/articles/PMC4159698/\n",
    "\n",
    "[2]. https://www.britannica.com/event/Framingham-Heart-Studay\n",
    "\n",
    "[3]. https://framinghamheartstudy.org/\n",
    "\n",
    "[4]. https://www.sciencedirect.com/topics/earth-and-planetary-sciences/data-simulation\n",
    "\n",
    "[5]. https://www.britannica.com/science/stochastic-process\n",
    "\n",
    "[6]. https://www.webmd.com/heart-disease/smoking-heart-disease\n",
    "\n",
    "[7]. https://numpy.org/doc/stable/reference/random/generated/numpy.random.choice.html\n",
    "\n",
    "[8]. https://www.webmd.com/heart-disease/guide/heart-disease-lower-cholesterol-risk\n",
    "\n",
    "[9]. https://medlineplus.gov/cholesterollevelswhatyouneedtoknow.html\n",
    "\n",
    "[10]  https://numpy.org/doc/stable/reference/random/generated/numpy.random.normal.html\n",
    "\n",
    "[11]. https://stackoverflow.com/questions/37411633/how-to-generate-a-random-normal-distribution-of-integers\n",
    "\n",
    "[12]. https://www.cdc.gov/healthyweight/assessing/bmi/index.html\n",
    "\n",
    "[13]. https://www.hopkinsmedicine.org/health/wellness-and-prevention/weight-a-silent-heart-risk\n",
    "\n",
    "[14]. https://docs.scipy.org/doc/scipy-0.13.0/reference/generated/scipy.stats.truncnorm.html\n"
   ]
  },
  {
   "cell_type": "code",
   "execution_count": null,
   "id": "05fb6c00-ca49-4e3c-9fd3-4f92d4cc1f89",
   "metadata": {},
   "outputs": [],
   "source": []
  }
 ],
 "metadata": {
  "kernelspec": {
   "display_name": "Python 3",
   "language": "python",
   "name": "python3"
  },
  "language_info": {
   "codemirror_mode": {
    "name": "ipython",
    "version": 3
   },
   "file_extension": ".py",
   "mimetype": "text/x-python",
   "name": "python",
   "nbconvert_exporter": "python",
   "pygments_lexer": "ipython3",
   "version": "3.8.8"
  }
 },
 "nbformat": 4,
 "nbformat_minor": 5
}
